{
  "cells": [
    {
      "cell_type": "markdown",
      "metadata": {
        "id": "view-in-github",
        "colab_type": "text"
      },
      "source": [
        "<a href=\"https://colab.research.google.com/github/marthery/ML_course/blob/master/labs/ex04/marguerite/ex04.ipynb\" target=\"_parent\"><img src=\"https://colab.research.google.com/assets/colab-badge.svg\" alt=\"Open In Colab\"/></a>"
      ]
    },
    {
      "cell_type": "code",
      "source": [
        "\n",
        "#check python version\n",
        "!python --version\n",
        "#3.9.6"
      ],
      "metadata": {
        "id": "a04f3m_9XLdJ",
        "outputId": "54a84f37-bc24-45d1-f774-29552184cce2",
        "colab": {
          "base_uri": "https://localhost:8080/"
        }
      },
      "execution_count": 64,
      "outputs": [
        {
          "output_type": "stream",
          "name": "stdout",
          "text": [
            "\r0% [Working]\r            \rHit:1 http://archive.ubuntu.com/ubuntu bionic InRelease\n",
            "Get:2 http://archive.ubuntu.com/ubuntu bionic-updates InRelease [88.7 kB]\n",
            "Get:3 https://cloud.r-project.org/bin/linux/ubuntu bionic-cran40/ InRelease [3,626 B]\n",
            "Get:4 http://ppa.launchpad.net/c2d4u.team/c2d4u4.0+/ubuntu bionic InRelease [15.9 kB]\n",
            "Get:5 http://archive.ubuntu.com/ubuntu bionic-backports InRelease [83.3 kB]\n",
            "Get:6 http://security.ubuntu.com/ubuntu bionic-security InRelease [88.7 kB]\n",
            "Hit:7 http://ppa.launchpad.net/cran/libgit2/ubuntu bionic InRelease\n",
            "Get:8 http://archive.ubuntu.com/ubuntu bionic-updates/main amd64 Packages [3,454 kB]\n",
            "Get:9 http://ppa.launchpad.net/deadsnakes/ppa/ubuntu bionic InRelease [15.9 kB]\n",
            "Get:10 http://archive.ubuntu.com/ubuntu bionic-updates/restricted amd64 Packages [1,232 kB]\n",
            "Get:11 http://archive.ubuntu.com/ubuntu bionic-updates/universe amd64 Packages [2,329 kB]\n",
            "Get:12 http://ppa.launchpad.net/graphics-drivers/ppa/ubuntu bionic InRelease [21.3 kB]\n",
            "Ign:13 https://developer.download.nvidia.com/compute/machine-learning/repos/ubuntu1804/x86_64  InRelease\n",
            "Hit:14 https://developer.download.nvidia.com/compute/cuda/repos/ubuntu1804/x86_64  InRelease\n",
            "Get:15 http://ppa.launchpad.net/c2d4u.team/c2d4u4.0+/ubuntu bionic/main Sources [2,164 kB]\n",
            "Get:16 http://security.ubuntu.com/ubuntu bionic-security/universe amd64 Packages [1,551 kB]\n",
            "Hit:17 https://developer.download.nvidia.com/compute/machine-learning/repos/ubuntu1804/x86_64  Release\n",
            "Get:19 http://security.ubuntu.com/ubuntu bionic-security/restricted amd64 Packages [1,188 kB]\n",
            "Get:20 http://security.ubuntu.com/ubuntu bionic-security/main amd64 Packages [3,020 kB]\n",
            "Get:21 http://ppa.launchpad.net/c2d4u.team/c2d4u4.0+/ubuntu bionic/main amd64 Packages [1,109 kB]\n",
            "Get:22 http://ppa.launchpad.net/deadsnakes/ppa/ubuntu bionic/main amd64 Packages [44.0 kB]\n",
            "Get:23 http://ppa.launchpad.net/graphics-drivers/ppa/ubuntu bionic/main amd64 Packages [50.8 kB]\n",
            "Fetched 16.5 MB in 3s (5,114 kB/s)\n",
            "Reading package lists... Done\n",
            "Reading package lists... Done\n",
            "Building dependency tree       \n",
            "Reading state information... Done\n",
            "The following package was automatically installed and is no longer required:\n",
            "  libnvidia-common-460\n",
            "Use 'sudo apt autoremove' to remove it.\n",
            "The following additional packages will be installed:\n",
            "  libpython3.9-minimal libpython3.9-stdlib python3.9-minimal\n",
            "Suggested packages:\n",
            "  python3.9-venv binfmt-support\n",
            "The following NEW packages will be installed:\n",
            "  libpython3.9-minimal libpython3.9-stdlib python3.9 python3.9-minimal\n",
            "0 upgraded, 4 newly installed, 0 to remove and 40 not upgraded.\n",
            "Need to get 4,917 kB of archives.\n",
            "After this operation, 19.1 MB of additional disk space will be used.\n",
            "Get:1 http://ppa.launchpad.net/deadsnakes/ppa/ubuntu bionic/main amd64 libpython3.9-minimal amd64 3.9.15-1+bionic1 [805 kB]\n",
            "Get:2 http://ppa.launchpad.net/deadsnakes/ppa/ubuntu bionic/main amd64 python3.9-minimal amd64 3.9.15-1+bionic1 [1,938 kB]\n",
            "Get:3 http://ppa.launchpad.net/deadsnakes/ppa/ubuntu bionic/main amd64 libpython3.9-stdlib amd64 3.9.15-1+bionic1 [1,680 kB]\n",
            "Get:4 http://ppa.launchpad.net/deadsnakes/ppa/ubuntu bionic/main amd64 python3.9 amd64 3.9.15-1+bionic1 [494 kB]\n",
            "Fetched 4,917 kB in 3s (1,674 kB/s)\n",
            "debconf: unable to initialize frontend: Dialog\n",
            "debconf: (No usable dialog-like program is installed, so the dialog based frontend cannot be used. at /usr/share/perl5/Debconf/FrontEnd/Dialog.pm line 76, <> line 4.)\n",
            "debconf: falling back to frontend: Readline\n",
            "debconf: unable to initialize frontend: Readline\n",
            "debconf: (This frontend requires a controlling tty.)\n",
            "debconf: falling back to frontend: Teletype\n",
            "dpkg-preconfigure: unable to re-open stdin: \n",
            "Selecting previously unselected package libpython3.9-minimal:amd64.\n",
            "(Reading database ... 123934 files and directories currently installed.)\n",
            "Preparing to unpack .../libpython3.9-minimal_3.9.15-1+bionic1_amd64.deb ...\n",
            "Unpacking libpython3.9-minimal:amd64 (3.9.15-1+bionic1) ...\n",
            "Selecting previously unselected package python3.9-minimal.\n",
            "Preparing to unpack .../python3.9-minimal_3.9.15-1+bionic1_amd64.deb ...\n",
            "Unpacking python3.9-minimal (3.9.15-1+bionic1) ...\n",
            "Selecting previously unselected package libpython3.9-stdlib:amd64.\n",
            "Preparing to unpack .../libpython3.9-stdlib_3.9.15-1+bionic1_amd64.deb ...\n",
            "Unpacking libpython3.9-stdlib:amd64 (3.9.15-1+bionic1) ...\n",
            "Selecting previously unselected package python3.9.\n",
            "Preparing to unpack .../python3.9_3.9.15-1+bionic1_amd64.deb ...\n",
            "Unpacking python3.9 (3.9.15-1+bionic1) ...\n",
            "Setting up libpython3.9-minimal:amd64 (3.9.15-1+bionic1) ...\n",
            "Setting up libpython3.9-stdlib:amd64 (3.9.15-1+bionic1) ...\n",
            "Setting up python3.9-minimal (3.9.15-1+bionic1) ...\n",
            "Setting up python3.9 (3.9.15-1+bionic1) ...\n",
            "Processing triggers for mime-support (3.60ubuntu1) ...\n",
            "Processing triggers for man-db (2.8.3-2ubuntu0.1) ...\n",
            "update-alternatives: using /usr/bin/python3.9 to provide /usr/bin/python3 (python3) in auto mode\n",
            "Python 3.9.15\n"
          ]
        }
      ]
    },
    {
      "cell_type": "code",
      "execution_count": 1,
      "metadata": {
        "id": "qTGB2lbmH0m7"
      },
      "outputs": [],
      "source": [
        "# Useful starting lines\n",
        "%matplotlib inline\n",
        "import numpy as np\n",
        "import matplotlib.pyplot as plt\n",
        "%load_ext autoreload\n",
        "%autoreload 2\n",
        "from test_utils import test"
      ]
    },
    {
      "cell_type": "markdown",
      "metadata": {
        "id": "wrg5cb3-H0m8"
      },
      "source": [
        "# Cross-Validation and Bias-Variance decomposition\n",
        "## Cross-Validation\n",
        "Implementing 4-fold cross-validation below:"
      ]
    },
    {
      "cell_type": "code",
      "execution_count": 2,
      "metadata": {
        "id": "Vxwv7mk8H0m-",
        "outputId": "6a128891-b798-4275-bbf1-952c7c4977b5",
        "colab": {
          "base_uri": "https://localhost:8080/"
        }
      },
      "outputs": [
        {
          "output_type": "execute_result",
          "data": {
            "text/plain": [
              "array([ 8.95549970e-02, -1.28027608e+00,  1.28930361e+00, -2.68157012e-01,\n",
              "       -2.06807030e-01,  5.38669461e-01, -4.84226326e-01, -1.05814170e+00,\n",
              "        2.22695473e-01,  1.94693837e-01,  4.37144573e-01, -3.01041920e-01,\n",
              "        4.25144932e-01,  3.76102400e-02,  8.33364051e-01, -4.37345163e-01,\n",
              "       -1.41108000e-04, -3.08575746e-01,  7.22554859e-01, -3.72595292e-01,\n",
              "       -7.37222919e-01,  9.51211821e-01,  6.05998553e-01,  3.59152612e-01,\n",
              "        7.77071848e-01,  3.88647453e-01, -5.59911457e-01, -5.68519390e-01,\n",
              "       -1.29168955e+00,  9.94909022e-01,  7.00138842e-01,  7.27781486e-01,\n",
              "        7.73288841e-01, -7.46011639e-01, -1.33397556e+00, -1.50508406e-01,\n",
              "        2.52524512e-01, -9.56348655e-01, -1.30763072e+00, -8.26518932e-01,\n",
              "        6.67509379e-01, -5.72305352e-01,  7.69121860e-02,  7.39727694e-01,\n",
              "       -1.06662741e+00,  3.05224230e-02, -7.66467434e-01, -8.35127298e-01,\n",
              "        1.21879684e-01, -1.04670162e+00])"
            ]
          },
          "metadata": {},
          "execution_count": 2
        }
      ],
      "source": [
        "from helpers import load_data\n",
        "\n",
        "# load dataset\n",
        "x, y = load_data()\n",
        "y.reshape((-1))"
      ]
    },
    {
      "cell_type": "code",
      "execution_count": 3,
      "metadata": {
        "id": "NMz6VUTNH0nB"
      },
      "outputs": [],
      "source": [
        "def build_k_indices(y, k_fold, seed):\n",
        "    \"\"\"build k indices for k-fold.\n",
        "    \n",
        "    Args:\n",
        "        y:      shape=(N,)\n",
        "        k_fold: K in K-fold, i.e. the fold num\n",
        "        seed:   the random seed\n",
        "\n",
        "    Returns:\n",
        "        A 2D array of shape=(k_fold, N/k_fold) that indicates the data indices for each fold\n",
        "\n",
        "    >>> build_k_indices(np.array([1., 2., 3., 4.]), 2, 1)\n",
        "    array([[3, 2],\n",
        "           [0, 1]])\n",
        "    \"\"\"\n",
        "    num_row = y.shape[0]\n",
        "    interval = int(num_row / k_fold)\n",
        "    np.random.seed(seed)\n",
        "    indices = np.random.permutation(num_row)\n",
        "    k_indices = [indices[k * interval: (k + 1) * interval] for k in range(k_fold)]\n",
        "    return np.array(k_indices)"
      ]
    },
    {
      "cell_type": "code",
      "execution_count": 43,
      "metadata": {
        "id": "lrOo4cy2H0nC",
        "outputId": "db16f5ec-3b5e-401d-b6f9-530248901731",
        "colab": {
          "base_uri": "https://localhost:8080/"
        }
      },
      "outputs": [
        {
          "output_type": "stream",
          "name": "stdout",
          "text": [
            "✅ Your `build_k_indices` passes some basic tests.\n"
          ]
        }
      ],
      "source": [
        "test(build_k_indices)"
      ]
    },
    {
      "cell_type": "markdown",
      "metadata": {
        "id": "x579RxreH0nC"
      },
      "source": [
        "For the following cross_validation( ) function you need to implement, you can help yourselves of the build_poly( ) and ridge_regression( ) functions that you implemented in lab 3. Copy paste the code in the build_polynomial.py and ridge_regression.py files, they should pass the two following tests."
      ]
    },
    {
      "cell_type": "code",
      "execution_count": 5,
      "metadata": {
        "id": "YmAcqKv5H0nD",
        "outputId": "8b38bec0-139b-4922-aa0c-f1e5c2d6e7a2",
        "colab": {
          "base_uri": "https://localhost:8080/"
        }
      },
      "outputs": [
        {
          "output_type": "stream",
          "name": "stdout",
          "text": [
            "✅ Your `build_poly` passes some basic tests.\n",
            "✅ Your `ridge_regression` passes some basic tests.\n"
          ]
        }
      ],
      "source": [
        "from costs import compute_mse\n",
        "from ridge_regression import ridge_regression\n",
        "from build_polynomial import build_poly\n",
        "\n",
        "\n",
        "test(build_poly)\n",
        "test(ridge_regression)"
      ]
    },
    {
      "cell_type": "code",
      "execution_count": 65,
      "metadata": {
        "id": "NRP2qasbH0nD"
      },
      "outputs": [],
      "source": [
        "def cross_validation(y, x, k_indices, k, lambda_, degree):\n",
        "    \"\"\"return the loss of ridge regression for a fold corresponding to k_indices\n",
        "    \n",
        "    Args:\n",
        "        y:          shape=(N,)\n",
        "        x:          shape=(N,)\n",
        "        k_indices:  2D array returned by build_k_indices()\n",
        "        k:          scalar, the k-th fold (N.B.: not to confused with k_fold which is the fold nums)\n",
        "        lambda_:    scalar, cf. ridge_regression()\n",
        "        degree:     scalar, cf. build_poly()\n",
        "\n",
        "    Returns:\n",
        "        train and test root mean square errors rmse = sqrt(2 mse)\n",
        "\n",
        "    >>> cross_validation(np.array([1.,2.,3.,4.]), np.array([6.,7.,8.,9.]), np.array([[3,2], [0,1]]), 1, 2, 3)\n",
        "    (0.019866645527597114, 0.33555914361295175)\n",
        "    \"\"\"\n",
        "\n",
        "    # ***************************************************\n",
        "    te_indices = k_indices[k]\n",
        "    tr_indices = k_indices[~(np.arange(k_indices.shape[0]) == k)]\n",
        "    tr_indices = tr_indices.reshape(-1)\n",
        "    #tr_indices = [ind for ind in ~k_indices[k]]\n",
        "    #tr_indices = np.array(tr_indices)\n",
        "    x_te = x[te_indices]\n",
        "    y_te = y[te_indices]\n",
        "    x_tr = x[tr_indices]\n",
        "    y_tr = y[tr_indices]\n",
        "    # ***************************************************\n",
        "    # ***************************************************\n",
        "    x_tr_p = build_poly(x_tr, degree)\n",
        "    x_te_p = build_poly(x_te, degree)\n",
        "    # ***************************************************\n",
        "    # ***************************************************\n",
        "    w = ridge_regression(y_tr, x_tr_p, lambda_)\n",
        "    # ***************************************************\n",
        "    # ***************************************************\n",
        "    loss_tr = np.sqrt(2*compute_mse(y_tr, x_tr_p,w))\n",
        "    loss_te = np.sqrt(2*compute_mse(y_te, x_te_p,w))\n",
        "    # ***************************************************\n",
        "\n",
        "    return loss_tr, loss_te\n"
      ]
    },
    {
      "cell_type": "code",
      "execution_count": 66,
      "metadata": {
        "id": "3bUg_bh-H0nE",
        "outputId": "57857795-bcee-4746-cd9e-ee7110ca073c",
        "colab": {
          "base_uri": "https://localhost:8080/"
        }
      },
      "outputs": [
        {
          "output_type": "stream",
          "name": "stdout",
          "text": [
            "❌ The are some issues with your implementation of `cross_validation`:\n",
            "**********************************************************************\n",
            "File \"__main__\", line 15, in cross_validation\n",
            "Failed example:\n",
            "    cross_validation(np.array([1.,2.,3.,4.]), np.array([6.,7.,8.,9.]), np.array([[3,2], [0,1]]), 1, 2, 3)\n",
            "Expected:\n",
            "    (0.019866645527597114, 0.33555914361295175)\n",
            "Got:\n",
            "    (0.019866645527598144, 0.3355591436129497)\n",
            "**********************************************************************\n"
          ]
        }
      ],
      "source": [
        "# can lead to a numerical error if you use an older version than Python 3.9 \n",
        "test(cross_validation)  "
      ]
    },
    {
      "cell_type": "code",
      "execution_count": 61,
      "metadata": {
        "scrolled": true,
        "id": "dxui6BlhH0nE",
        "outputId": "1a9beb43-16f6-49be-eefb-f9abb5bf9890",
        "colab": {
          "base_uri": "https://localhost:8080/",
          "height": 337
        }
      },
      "outputs": [
        {
          "output_type": "stream",
          "name": "stdout",
          "text": [
            "For polynomial expansion up to degree 7, the choice of lambda which leads to the best test rmse is 0.07880 with a test rmse of 0.271\n"
          ]
        },
        {
          "output_type": "display_data",
          "data": {
            "text/plain": [
              "<Figure size 432x288 with 1 Axes>"
            ],
            "image/png": "[encoded data removed]"
          },
          "metadata": {
            "needs_background": "light"
          }
        }
      ],
      "source": [
        "from plots import cross_validation_visualization\n",
        "\n",
        "def cross_validation_demo(degree, k_fold, lambdas):\n",
        "    \"\"\"cross validation over regularisation parameter lambda.\n",
        "    \n",
        "    Args:\n",
        "        degree: integer, degree of the polynomial expansion\n",
        "        k_fold: integer, the number of folds\n",
        "        lambdas: shape = (p, ) where p is the number of values of lambda to test\n",
        "    Returns:\n",
        "        best_lambda : scalar, value of the best lambda\n",
        "        best_rmse : scalar, the associated root mean squared error for the best lambda\n",
        "    \"\"\"\n",
        "    \n",
        "    seed = 12\n",
        "    degree = degree\n",
        "    k_fold = k_fold\n",
        "    lambdas = lambdas\n",
        "    # split data in k fold\n",
        "    k_indices = build_k_indices(y, k_fold, seed)\n",
        "    # define lists to store the loss of training data and test data\n",
        "    rmse_tr = []\n",
        "    rmse_te = []\n",
        "    # ***************************************************\n",
        "    for lambda_ in lambdas: \n",
        "      loss_tr, loss_te = cross_validation(y, x, k_indices, k_fold-1, lambda_, degree)\n",
        "      rmse_tr.append(loss_tr)\n",
        "      rmse_te.append(loss_te)\n",
        "    # ***************************************************\n",
        "    best_rmse, ind = np.min(rmse_te), np.argmin(rmse_te)\n",
        "    best_lambda = lambdas[ind]\n",
        "\n",
        "    cross_validation_visualization(lambdas, rmse_tr, rmse_te)\n",
        "    print(\"For polynomial expansion up to degree %.f, the choice of lambda which leads to the best test rmse is %.5f with a test rmse of %.3f\" % (degree, best_lambda, best_rmse))\n",
        "    return best_lambda, best_rmse\n",
        "\n",
        "\n",
        "best_lambda, best_rmse = cross_validation_demo(7, 4, np.logspace(-4, 0, 30))"
      ]
    },
    {
      "cell_type": "markdown",
      "metadata": {
        "id": "QcOAosOcH0nE"
      },
      "source": [
        "Your output should look like this for seed = 12, degree = 7 and k_fold = 4:\n",
        "\n",
        "![alt text](https://github.com/marthery/ML_course/blob/master/labs/ex04/template/cross_validation2.png?raw=1)"
      ]
    },
    {
      "cell_type": "markdown",
      "metadata": {
        "id": "xfOQ23hhH0nF"
      },
      "source": [
        "You can play around with the number of folds and the degree of your polynomial expansion."
      ]
    },
    {
      "cell_type": "code",
      "execution_count": null,
      "metadata": {
        "id": "tdxua9SpH0nF"
      },
      "outputs": [],
      "source": [
        "best_lambda, best_rmse = cross_validation_demo(10, 4, np.logspace(-10, -2,  30))"
      ]
    },
    {
      "cell_type": "markdown",
      "metadata": {
        "id": "Z_DAuR0yH0nF"
      },
      "source": [
        "In the previous task we did a grid search over several values of $\\lambda$ for a fixed degree. We can also perform a grid search amongst $\\lambda$ and degrees simultaneously:"
      ]
    },
    {
      "cell_type": "code",
      "execution_count": null,
      "metadata": {
        "id": "QQM86o80H0nF"
      },
      "outputs": [],
      "source": [
        "def best_degree_selection(degrees, k_fold, lambdas, seed = 1):\n",
        "    \"\"\"cross validation over regularisation parameter lambda and degree.\n",
        "    \n",
        "    Args:\n",
        "        degrees: shape = (d,), where d is the number of degrees to test \n",
        "        k_fold: integer, the number of folds\n",
        "        lambdas: shape = (p, ) where p is the number of values of lambda to test\n",
        "    Returns:\n",
        "        best_degree : integer, value of the best degree\n",
        "        best_lambda : scalar, value of the best lambda\n",
        "        best_rmse : value of the rmse for the couple (best_degree, best_lambda)\n",
        "        \n",
        "    >>> best_degree_selection(np.arange(2,11), 4, np.logspace(-4, 0, 30))\n",
        "    (7, 0.004520353656360241, 0.28957280566456634)\n",
        "    \"\"\"\n",
        "    \n",
        "    # split data in k fold\n",
        "    k_indices = build_k_indices(y, k_fold, seed)\n",
        "    \n",
        "    # ***************************************************\n",
        "    # INSERT YOUR CODE HERE\n",
        "    # cross validation over degrees and lambdas: TODO\n",
        "    # ***************************************************\n",
        "    raise NotImplementedError    \n",
        "    \n",
        "    return best_degree, best_lambda, best_rmse"
      ]
    },
    {
      "cell_type": "code",
      "execution_count": null,
      "metadata": {
        "id": "ubMnOs1NH0nF"
      },
      "outputs": [],
      "source": [
        "# can lead to a numerical error if you use an older version than Python 3.9 \n",
        "test(best_degree_selection)\n",
        "\n",
        "best_degree, best_lambda, best_rmse = best_degree_selection(np.arange(2,11), 4, np.logspace(-4, 0, 30))\n",
        "print(\"The best rmse of %.3f is obtained for a degree of %.f and a lambda of %.5f.\" % (best_rmse, best_degree, best_lambda))"
      ]
    },
    {
      "cell_type": "markdown",
      "metadata": {
        "id": "a0XSwXblH0nG"
      },
      "source": [
        "## Bias-Variance Decomposition"
      ]
    },
    {
      "cell_type": "code",
      "execution_count": null,
      "metadata": {
        "id": "WdinDoVlH0nG"
      },
      "outputs": [],
      "source": [
        "#true function we want to learn\n",
        "def f_star(x):\n",
        "    return x**3 - x**2 + 0.5\n",
        "\n",
        "# plotting function for f_star\n",
        "def plot_fstar(ax):\n",
        "    xvals = np.arange(-1, 1, 0.01)\n",
        "    ax.plot(xvals, f_star(xvals),  linestyle = '--', color = 'k', label = 'f_star')\n",
        "    ax.set_ylim(-2, 2)"
      ]
    },
    {
      "cell_type": "code",
      "execution_count": null,
      "metadata": {
        "id": "06t5ZpcUH0nG"
      },
      "outputs": [],
      "source": [
        "# helper plot function\n",
        "def plot_poly(x, y, weights, degree, ax, alpha = 0.3):\n",
        "    xvals = np.arange(-1, 1, 0.01)  \n",
        "    tx = build_poly(xvals, degree)\n",
        "    f = tx.dot(weights)\n",
        "    ax.plot(xvals, f, color = 'orange', alpha = alpha)\n",
        "    ax.scatter(x, y, color='b', alpha = alpha, s = 10) \n",
        "    ax.set_xlabel(\"x\")\n",
        "    ax.set_ylabel(\"y\")\n",
        "    ax.set_title(\"Polynomial degree \" + str(degree))\n",
        "    ax.set_ylim(-1, 2)\n",
        "\n",
        "# helper plot function \n",
        "def plot_f(weights, degree, ax, label = None):\n",
        "    xvals = np.arange(-1, 1, 0.01)\n",
        "    tx = build_poly(xvals, degree)\n",
        "    f = tx.dot(weights)\n",
        "    ax.plot(xvals, f, color = 'black', alpha = 1, label = label)\n",
        "    ax.set_ylim(-1, 2)"
      ]
    },
    {
      "cell_type": "markdown",
      "metadata": {
        "id": "Vad5zS66H0nJ"
      },
      "source": [
        "Implement the following function: for 15 random datapoints, it finds the optimal fit (using the least square formula, with no regularisation λ) for a polynomial expansion of degree 1, 3 and 6."
      ]
    },
    {
      "cell_type": "code",
      "execution_count": null,
      "metadata": {
        "id": "YeaaCIsoH0nJ"
      },
      "outputs": [],
      "source": [
        "from least_squares import least_squares\n",
        "\n",
        "def bias_variance_one_seed(sigma, degrees, seed):\n",
        "    \"\"\"One run of the optimal fit for 15 random points and different polynomial expansion degrees.\n",
        "    \n",
        "    Args:\n",
        "        sigma: scalar, noise variance\n",
        "        degrees: shape = (3,), 3 different degrees to consider\n",
        "        seed: integer, random see\n",
        "    Returns:\n",
        "    \"\"\"\n",
        "    \n",
        "    \n",
        "    # we will generate 15 random datapoints from the [-1, 1] uniform distribuion\n",
        "    num_data = 15\n",
        "    np.random.seed(seed)  # set random seed for reproducibility\n",
        "    xs = np.random.uniform(-1, 1, num_data)\n",
        "    # the outputs will be f_star(x) + some random gaussian noise of variance sigma**2\n",
        "    ys = f_star(xs) + sigma * np.random.randn(num_data).T\n",
        "    \n",
        "    fig, axs = plt.subplots(1, 3, figsize = (20, 5))\n",
        "    for index_degree, degree in enumerate(degrees):\n",
        "        # ***************************************************\n",
        "        # INSERT YOUR CODE HERE\n",
        "        # ***************************************************\n",
        "    \n",
        "        plot_fstar(axs[index_degree])\n",
        "        axs[index_degree].legend()\n",
        "    plt.show()\n",
        "\n",
        "bias_variance_one_seed(0.1, [1, 3, 6], seed = 2)"
      ]
    },
    {
      "cell_type": "markdown",
      "metadata": {
        "id": "R95OzT8FH0nK"
      },
      "source": [
        "Your output should ressemble (for seed = 2) to this: \n",
        "![alt text](https://github.com/marthery/ML_course/blob/master/labs/ex04/template/bias_variance_one_run.png?raw=1)"
      ]
    },
    {
      "cell_type": "markdown",
      "metadata": {
        "id": "5NtJ8FvUH0nK"
      },
      "source": [
        "Now to illustrate the bias variance tradeoff we will repeat many times the previous experiment but using a different random seed each time. We also plot (in plain black) the mean of all the orange functions obtained."
      ]
    },
    {
      "cell_type": "code",
      "execution_count": null,
      "metadata": {
        "id": "3geAgXcCH0nK"
      },
      "outputs": [],
      "source": [
        "def bias_variance_demo(sigma, degrees):\n",
        "    \"\"\"Illustration of the bias-variance tradeoff.\n",
        "    \n",
        "    Args:\n",
        "        sigma: scalar, noise variance\n",
        "        degrees: shape = (3,), 3 different degrees to consider\n",
        "    Returns:\n",
        "    \"\"\"\n",
        "    # define parameters\n",
        "    seeds = range(400)  # number of runs\n",
        "    num_data = 15\n",
        "\n",
        "    \n",
        "    fig, axs = plt.subplots(1, 3, figsize = (20, 5))\n",
        "    for index_degree, degree in enumerate(degrees):\n",
        "        # ***************************************************\n",
        "        # INSERT YOUR CODE HERE\n",
        "        # ***************************************************\n",
        "    \n",
        "        plot_fstar(axs[index_degree])\n",
        "        axs[index_degree].legend()\n",
        "    plt.show()\n",
        "\n",
        "bias_variance_demo(0.1, [1, 3, 6])"
      ]
    },
    {
      "cell_type": "markdown",
      "metadata": {
        "id": "ERubtP4gH0nL"
      },
      "source": [
        "Your output should ressemble to this: \n",
        "![alt text](https://github.com/marthery/ML_course/blob/master/labs/ex04/template/bias_variance.png?raw=1)"
      ]
    }
  ],
  "metadata": {
    "anaconda-cloud": {},
    "interpreter": {
      "hash": "e0bf87ca76fb5b422ca2242d3f57a8673830329274991611ab780acbdc1fe38f"
    },
    "kernelspec": {
      "display_name": "Python 3 (ipykernel)",
      "language": "python",
      "name": "python3"
    },
    "language_info": {
      "codemirror_mode": {
        "name": "ipython",
        "version": 3
      },
      "file_extension": ".py",
      "mimetype": "text/x-python",
      "name": "python",
      "nbconvert_exporter": "python",
      "pygments_lexer": "ipython3",
      "version": "3.7.13"
    },
    "colab": {
      "provenance": [],
      "include_colab_link": true
    }
  },
  "nbformat": 4,
  "nbformat_minor": 0
}